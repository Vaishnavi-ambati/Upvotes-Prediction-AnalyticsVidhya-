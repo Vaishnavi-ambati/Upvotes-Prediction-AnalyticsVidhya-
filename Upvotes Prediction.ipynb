{
 "cells": [
  {
   "cell_type": "code",
   "execution_count": 13,
   "metadata": {},
   "outputs": [
    {
     "data": {
      "text/html": [
       "<div>\n",
       "<style scoped>\n",
       "    .dataframe tbody tr th:only-of-type {\n",
       "        vertical-align: middle;\n",
       "    }\n",
       "\n",
       "    .dataframe tbody tr th {\n",
       "        vertical-align: top;\n",
       "    }\n",
       "\n",
       "    .dataframe thead th {\n",
       "        text-align: right;\n",
       "    }\n",
       "</style>\n",
       "<table border=\"1\" class=\"dataframe\">\n",
       "  <thead>\n",
       "    <tr style=\"text-align: right;\">\n",
       "      <th></th>\n",
       "      <th>ID</th>\n",
       "      <th>Tag</th>\n",
       "      <th>Reputation</th>\n",
       "      <th>Answers</th>\n",
       "      <th>Username</th>\n",
       "      <th>Views</th>\n",
       "      <th>Upvotes</th>\n",
       "    </tr>\n",
       "  </thead>\n",
       "  <tbody>\n",
       "    <tr>\n",
       "      <th>0</th>\n",
       "      <td>52664</td>\n",
       "      <td>a</td>\n",
       "      <td>3942.0</td>\n",
       "      <td>2.0</td>\n",
       "      <td>155623</td>\n",
       "      <td>7855.0</td>\n",
       "      <td>42.0</td>\n",
       "    </tr>\n",
       "    <tr>\n",
       "      <th>1</th>\n",
       "      <td>327662</td>\n",
       "      <td>a</td>\n",
       "      <td>26046.0</td>\n",
       "      <td>12.0</td>\n",
       "      <td>21781</td>\n",
       "      <td>55801.0</td>\n",
       "      <td>1175.0</td>\n",
       "    </tr>\n",
       "  </tbody>\n",
       "</table>\n",
       "</div>"
      ],
      "text/plain": [
       "       ID Tag  Reputation  Answers  Username    Views  Upvotes\n",
       "0   52664   a      3942.0      2.0    155623   7855.0     42.0\n",
       "1  327662   a     26046.0     12.0     21781  55801.0   1175.0"
      ]
     },
     "execution_count": 13,
     "metadata": {},
     "output_type": "execute_result"
    }
   ],
   "source": [
    "import pandas as pd\n",
    "import numpy as np\n",
    "import seaborn as sns\n",
    "import matplotlib.pyplot as plt\n",
    "import calendar\n",
    "import datetime\n",
    "import warnings\n",
    "from scipy.stats import norm\n",
    "warnings.filterwarnings('ignore')\n",
    "\n",
    "from sklearn import model_selection\n",
    "from sklearn.metrics import accuracy_score\n",
    "from sklearn.linear_model import LogisticRegression\n",
    "from sklearn.tree import DecisionTreeClassifier\n",
    "from sklearn.neighbors import KNeighborsClassifier\n",
    "from sklearn.discriminant_analysis import LinearDiscriminantAnalysis\n",
    "from sklearn.naive_bayes import GaussianNB\n",
    "from sklearn.svm import SVC\n",
    "from sklearn.linear_model import LinearRegression\n",
    "from sklearn.ensemble import RandomForestClassifier\n",
    "from sklearn.metrics import mean_squared_error, r2_score\n",
    "from sklearn.ensemble import ExtraTreesClassifier\n",
    "from sklearn import preprocessing\n",
    "from sklearn.ensemble import AdaBoostClassifier\n",
    "from sklearn.ensemble import AdaBoostRegressor\n",
    "from xgboost import XGBClassifier\n",
    "%matplotlib inline\n",
    "\n",
    "train=pd.read_csv('train.csv')\n",
    "test=pd.read_csv('test.csv')\n",
    "train.head(2)"
   ]
  },
  {
   "cell_type": "code",
   "execution_count": 14,
   "metadata": {},
   "outputs": [
    {
     "data": {
      "text/html": [
       "<div>\n",
       "<style scoped>\n",
       "    .dataframe tbody tr th:only-of-type {\n",
       "        vertical-align: middle;\n",
       "    }\n",
       "\n",
       "    .dataframe tbody tr th {\n",
       "        vertical-align: top;\n",
       "    }\n",
       "\n",
       "    .dataframe thead th {\n",
       "        text-align: right;\n",
       "    }\n",
       "</style>\n",
       "<table border=\"1\" class=\"dataframe\">\n",
       "  <thead>\n",
       "    <tr style=\"text-align: right;\">\n",
       "      <th></th>\n",
       "      <th>Upvotes</th>\n",
       "    </tr>\n",
       "  </thead>\n",
       "  <tbody>\n",
       "    <tr>\n",
       "      <th>0</th>\n",
       "      <td>42.0</td>\n",
       "    </tr>\n",
       "    <tr>\n",
       "      <th>1</th>\n",
       "      <td>1175.0</td>\n",
       "    </tr>\n",
       "  </tbody>\n",
       "</table>\n",
       "</div>"
      ],
      "text/plain": [
       "   Upvotes\n",
       "0     42.0\n",
       "1   1175.0"
      ]
     },
     "execution_count": 14,
     "metadata": {},
     "output_type": "execute_result"
    }
   ],
   "source": [
    "target=train.loc[:,'Upvotes']\n",
    "target=pd.DataFrame(target)\n",
    "target.head(2)"
   ]
  },
  {
   "cell_type": "code",
   "execution_count": 15,
   "metadata": {},
   "outputs": [
    {
     "data": {
      "text/plain": [
       "0    330045\n",
       "Name: Upvotes, dtype: int64"
      ]
     },
     "execution_count": 15,
     "metadata": {},
     "output_type": "execute_result"
    }
   ],
   "source": [
    "neg=target[\"Upvotes\"].apply(lambda i: i if i < 0 else 0)\n",
    "neg.value_counts()"
   ]
  },
  {
   "cell_type": "code",
   "execution_count": 16,
   "metadata": {},
   "outputs": [],
   "source": [
    "#print('unique values in ID column',train['ID'].nunique())\n",
    "train=train.drop('ID',axis=1)"
   ]
  },
  {
   "cell_type": "code",
   "execution_count": 17,
   "metadata": {},
   "outputs": [
    {
     "data": {
      "text/plain": [
       "Tag           False\n",
       "Reputation    False\n",
       "Answers       False\n",
       "Username      False\n",
       "Views         False\n",
       "Upvotes       False\n",
       "dtype: bool"
      ]
     },
     "execution_count": 17,
     "metadata": {},
     "output_type": "execute_result"
    }
   ],
   "source": [
    "#Null values check\n",
    "train.isnull().any()"
   ]
  },
  {
   "cell_type": "code",
   "execution_count": 18,
   "metadata": {},
   "outputs": [],
   "source": [
    "def find_outliers(data,column_name):\n",
    "    # Set upper and lower limit to 3 standard deviation\n",
    "    data_std = data[column_name].std()\n",
    "    data_mean = np.mean(data[column_name])\n",
    "    outliers_cut_off = data_std * 3\n",
    "    \n",
    "    lower_limit  = data_mean - outliers_cut_off \n",
    "    upper_limit = data_mean + outliers_cut_off\n",
    "    print('column name:',column_name)\n",
    "    print('lower_limit',lower_limit)\n",
    "    print('upper_limit',upper_limit)\n",
    "    \n",
    "    # Generate outliers\n",
    "    outliers=[]\n",
    "    index_outliers=[]\n",
    "    for outlier in data[column_name]:\n",
    "        if outlier > upper_limit or outlier < lower_limit:\n",
    "            outliers.append(outlier)\n",
    "            #index_outliers.append(data[data[column_name]==outlier].index.values.astype(int)[0])\n",
    "    \n",
    "    print('rows in train',data.shape[0])\n",
    "    print('no of outliers in  '+column_name,len(outliers))\n",
    "    print(outliers[0:11])\n",
    "    print('max value in outliers:',max(outliers))\n",
    "    print('min value in outliers:',min(outliers))\n",
    "    print('----------------------------------------')\n"
   ]
  },
  {
   "cell_type": "code",
   "execution_count": 19,
   "metadata": {
    "scrolled": true
   },
   "outputs": [
    {
     "name": "stdout",
     "output_type": "stream",
     "text": [
      "column name: Reputation\n",
      "lower_limit -73411.09096213506\n",
      "upper_limit 88957.38455846283\n",
      "rows in train 330045\n",
      "no of outliers in  Reputation 4921\n",
      "[94541.0, 93269.0, 125111.0, 164870.0, 249097.0, 139905.0, 126101.0, 170791.0, 241819.0, 229039.0, 189302.0]\n",
      "max value in outliers: 1042428.0\n",
      "min value in outliers: 89034.0\n",
      "----------------------------------------\n"
     ]
    },
    {
     "data": {
      "image/png": "[encoded data removed]",
      "text/plain": [
       "<Figure size 432x288 with 1 Axes>"
      ]
     },
     "metadata": {
      "needs_background": "light"
     },
     "output_type": "display_data"
    },
    {
     "data": {
      "image/png": "[encoded data removed]",
      "text/plain": [
       "<Figure size 432x288 with 1 Axes>"
      ]
     },
     "metadata": {
      "needs_background": "light"
     },
     "output_type": "display_data"
    },
    {
     "name": "stdout",
     "output_type": "stream",
     "text": [
      "************************************************\n",
      "column name: Answers\n",
      "lower_limit -6.8208720127280635\n",
      "upper_limit 14.65621567798583\n",
      "rows in train 330045\n",
      "no of outliers in  Answers 6352\n",
      "[22.0, 41.0, 16.0, 17.0, 25.0, 19.0, 21.0, 25.0, 15.0, 16.0, 20.0]\n",
      "max value in outliers: 76.0\n",
      "min value in outliers: 15.0\n",
      "----------------------------------------\n"
     ]
    },
    {
     "data": {
      "image/png": "[encoded data removed]",
      "text/plain": [
       "<Figure size 432x288 with 1 Axes>"
      ]
     },
     "metadata": {
      "needs_background": "light"
     },
     "output_type": "display_data"
    },
    {
     "data": {
      "image/png": "[encoded data removed]",
      "text/plain": [
       "<Figure size 432x288 with 1 Axes>"
      ]
     },
     "metadata": {
      "needs_background": "light"
     },
     "output_type": "display_data"
    },
    {
     "name": "stdout",
     "output_type": "stream",
     "text": [
      "************************************************\n",
      "column name: Views\n",
      "lower_limit -213224.2980932106\n",
      "upper_limit 272514.44077678403\n",
      "rows in train 330045\n",
      "no of outliers in  Views 4436\n",
      "[752007.0, 281031.0, 895555.0, 475111.0, 308967.0, 414160.0, 285780.0, 304176.0, 958594.0, 339394.0, 447567.0]\n",
      "max value in outliers: 5231058.0\n",
      "min value in outliers: 272551.0\n",
      "----------------------------------------\n"
     ]
    },
    {
     "data": {
      "image/png": "[encoded data removed]",
      "text/plain": [
       "<Figure size 432x288 with 1 Axes>"
      ]
     },
     "metadata": {
      "needs_background": "light"
     },
     "output_type": "display_data"
    },
    {
     "data": {
      "image/png": "[encoded data removed]",
      "text/plain": [
       "<Figure size 432x288 with 1 Axes>"
      ]
     },
     "metadata": {
      "needs_background": "light"
     },
     "output_type": "display_data"
    },
    {
     "name": "stdout",
     "output_type": "stream",
     "text": [
      "************************************************\n"
     ]
    }
   ],
   "source": [
    "outliers= ['Reputation', 'Answers', 'Views']\n",
    "for clm in outliers:\n",
    "    find_outliers(train,clm)\n",
    "    boxplot = train.boxplot(column=[clm])\n",
    "    plt.show()\n",
    "    plt.scatter(train[clm],train['Upvotes'])\n",
    "    plt.xlabel(clm)\n",
    "    plt.show()\n",
    "    print('************************************************')"
   ]
  },
  {
   "cell_type": "markdown",
   "metadata": {},
   "source": [
    "## Handling outliers\n",
    "### To handle true outliers is to cap them. For example, if you’re using income, you might find that people above a certain income level behave in the same way as those with a lower income. In this case, you can cap the income value at a level that keeps that intact."
   ]
  },
  {
   "cell_type": "code",
   "execution_count": 8,
   "metadata": {},
   "outputs": [],
   "source": [
    "#train['Reputation']=train['Reputation'].apply(lambda x:90000 if x>89000 else x)"
   ]
  },
  {
   "cell_type": "markdown",
   "metadata": {},
   "source": [
    "# Skewness Check"
   ]
  },
  {
   "cell_type": "code",
   "execution_count": 20,
   "metadata": {},
   "outputs": [
    {
     "data": {
      "text/plain": [
       "Text(0, 0.5, 'Frequency')"
      ]
     },
     "execution_count": 20,
     "metadata": {},
     "output_type": "execute_result"
    },
    {
     "data": {
      "image/png": "[encoded data removed]",
      "text/plain": [
       "<Figure size 432x288 with 1 Axes>"
      ]
     },
     "metadata": {
      "needs_background": "light"
     },
     "output_type": "display_data"
    }
   ],
   "source": [
    "g = sns.kdeplot(train[\"Reputation\"], color=\"Red\", shade = True)\n",
    "g.set_xlabel(\"Reputation\")\n",
    "g.set_ylabel(\"Frequency\")"
   ]
  },
  {
   "cell_type": "markdown",
   "metadata": {},
   "source": [
    "## Handling categorical variables"
   ]
  },
  {
   "cell_type": "code",
   "execution_count": 21,
   "metadata": {},
   "outputs": [
    {
     "data": {
      "text/html": [
       "<div>\n",
       "<style scoped>\n",
       "    .dataframe tbody tr th:only-of-type {\n",
       "        vertical-align: middle;\n",
       "    }\n",
       "\n",
       "    .dataframe tbody tr th {\n",
       "        vertical-align: top;\n",
       "    }\n",
       "\n",
       "    .dataframe thead th {\n",
       "        text-align: right;\n",
       "    }\n",
       "</style>\n",
       "<table border=\"1\" class=\"dataframe\">\n",
       "  <thead>\n",
       "    <tr style=\"text-align: right;\">\n",
       "      <th></th>\n",
       "      <th>Tag</th>\n",
       "      <th>Reputation</th>\n",
       "      <th>Answers</th>\n",
       "      <th>Username</th>\n",
       "      <th>Views</th>\n",
       "      <th>Upvotes</th>\n",
       "    </tr>\n",
       "  </thead>\n",
       "  <tbody>\n",
       "    <tr>\n",
       "      <th>0</th>\n",
       "      <td>a</td>\n",
       "      <td>3942.0</td>\n",
       "      <td>2.0</td>\n",
       "      <td>155623</td>\n",
       "      <td>7855.0</td>\n",
       "      <td>42.0</td>\n",
       "    </tr>\n",
       "    <tr>\n",
       "      <th>1</th>\n",
       "      <td>a</td>\n",
       "      <td>26046.0</td>\n",
       "      <td>12.0</td>\n",
       "      <td>21781</td>\n",
       "      <td>55801.0</td>\n",
       "      <td>1175.0</td>\n",
       "    </tr>\n",
       "  </tbody>\n",
       "</table>\n",
       "</div>"
      ],
      "text/plain": [
       "  Tag  Reputation  Answers  Username    Views  Upvotes\n",
       "0   a      3942.0      2.0    155623   7855.0     42.0\n",
       "1   a     26046.0     12.0     21781  55801.0   1175.0"
      ]
     },
     "execution_count": 21,
     "metadata": {},
     "output_type": "execute_result"
    }
   ],
   "source": [
    "train.head(2)"
   ]
  },
  {
   "cell_type": "code",
   "execution_count": 22,
   "metadata": {},
   "outputs": [],
   "source": [
    "train=train.drop('Upvotes',axis=1)\n",
    "train=pd.get_dummies(train)"
   ]
  },
  {
   "cell_type": "code",
   "execution_count": 23,
   "metadata": {},
   "outputs": [
    {
     "name": "stdout",
     "output_type": "stream",
     "text": [
      "RMSE Linear: 888.31\n",
      "************************************************\n",
      "r2 GradientBoostingRegressor: 0.978024168960347\n",
      "rmse_train GradientBoostingRegressor:  564.3169276642484\n",
      "rmse_test GradientBoostingRegressor:  1357.7288665938431\n",
      "************************************************\n",
      "[20:49:00] WARNING: C:/Jenkins/workspace/xgboost-win64_release_0.90/src/objective/regression_obj.cu:152: reg:linear is now deprecated in favor of reg:squarederror.\n",
      "r2 xgb: 0.9768555891452781\n",
      "rmse_train xgb:  579.1265683026427\n",
      "rmse_test xgb:  1506.6950289784886\n",
      "************************************************\n",
      "r2 RandomForestRegressor:  0.9846131955240836\n",
      "rmse_train RandomForestRegressor:  472.1985419789103\n",
      "rmse_test RandomForestRegressor:  1422.4775951092404\n",
      "************************************************\n"
     ]
    }
   ],
   "source": [
    "from sklearn.model_selection import train_test_split\n",
    "x=train\n",
    "y=target\n",
    "X_train, X_test, y_train, y_test = train_test_split(x, y, test_size = 0.2, random_state = 1)\n",
    "\n",
    "from sklearn.preprocessing import PolynomialFeatures\n",
    "poly_reg=PolynomialFeatures(degree=3)\n",
    "X_train=poly_reg.fit_transform(X_train)\n",
    "poly_reg.fit(X_train,y_train)\n",
    "\n",
    "X_test=poly_reg.fit_transform(X_test)\n",
    "\n",
    "linReg = LinearRegression()\n",
    "linReg.fit(X_train,y_train)\n",
    "predicted_linReg = linReg.predict(X_test)\n",
    "\n",
    "print(\"RMSE Linear: %.2f\" % np.sqrt(mean_squared_error(y_test, predicted_linReg)))\n",
    "print('************************************************')\n",
    "\n",
    "from sklearn.ensemble import GradientBoostingRegressor\n",
    "model= GradientBoostingRegressor(random_state=1)\n",
    "model.fit(X_train, y_train)\n",
    "score=model.score(X_train, y_train)\n",
    "print(\"r2 GradientBoostingRegressor:\",score)\n",
    "predictions_train=model.predict(X_train)\n",
    "predictions_train=pd.DataFrame(predictions_train)\n",
    "#predictions_train.head()\n",
    "\n",
    "rmse_train=np.sqrt(mean_squared_error(y_train, predictions_train))\n",
    "#print(rmse_train)\n",
    "\n",
    "predictions_test=model.predict(X_test)\n",
    "predictions_test=pd.DataFrame(predictions_test)\n",
    "#predictions_test.head()\n",
    "\n",
    "rmse_test=np.sqrt(mean_squared_error(y_test, predictions_test))\n",
    "#print(rmse_test)\n",
    "\n",
    "print('rmse_train GradientBoostingRegressor: ',rmse_train)\n",
    "print('rmse_test GradientBoostingRegressor: ',rmse_test)\n",
    "print('************************************************')\n",
    "\n",
    "import xgboost as xgb\n",
    "model=xgb.XGBRegressor(random_state=1)\n",
    "model.fit(X_train, y_train)\n",
    "score=model.score(X_train, y_train)\n",
    "print(\"r2 xgb:\",score)\n",
    "\n",
    "predictions_train=model.predict(X_train)\n",
    "predictions_train=pd.DataFrame(predictions_train)\n",
    "#predictions_train.head()\n",
    "\n",
    "rmse_train=np.sqrt(mean_squared_error(y_train, predictions_train))\n",
    "#print(rmse_train)\n",
    "\n",
    "predictions_test=model.predict(X_test)\n",
    "predictions_test=pd.DataFrame(predictions_test)\n",
    "#predictions_test.head()\n",
    "\n",
    "rmse_test=np.sqrt(mean_squared_error(y_test, predictions_test))\n",
    "#print(rmse_test)\n",
    "\n",
    "print('rmse_train xgb: ',rmse_train)\n",
    "print('rmse_test xgb: ',rmse_test)\n",
    "print('************************************************')\n",
    "from sklearn.ensemble import RandomForestRegressor\n",
    "model= RandomForestRegressor(random_state=1)\n",
    "model.fit(X_train, y_train)\n",
    "score=model.score(X_train, y_train)\n",
    "print(\"r2 RandomForestRegressor: \",score)\n",
    "\n",
    "predictions_train=model.predict(X_train)\n",
    "predictions_train=pd.DataFrame(predictions_train)\n",
    "#predictions_train.head()\n",
    "\n",
    "rmse_train=np.sqrt(mean_squared_error(y_train, predictions_train))\n",
    "#print(rmse_train)\n",
    "\n",
    "predictions_test=model.predict(X_test)\n",
    "predictions_test=pd.DataFrame(predictions_test)\n",
    "#predictions_test.head()\n",
    "\n",
    "rmse_test=np.sqrt(mean_squared_error(y_test, predictions_test))\n",
    "#print(rmse_test)\n",
    "\n",
    "print('rmse_train RandomForestRegressor: ',rmse_train)\n",
    "print('rmse_test RandomForestRegressor: ',rmse_test)\n",
    "print('************************************************')"
   ]
  },
  {
   "cell_type": "code",
   "execution_count": 26,
   "metadata": {},
   "outputs": [
    {
     "name": "stdout",
     "output_type": "stream",
     "text": [
      "[[1.0000e+00 3.8600e+02 9.0000e+00 ... 0.0000e+00 0.0000e+00 0.0000e+00]\n",
      " [1.0000e+00 2.2060e+03 1.0000e+00 ... 0.0000e+00 0.0000e+00 0.0000e+00]\n",
      " [1.0000e+00 1.0697e+04 2.0000e+00 ... 0.0000e+00 0.0000e+00 0.0000e+00]\n",
      " ...\n",
      " [1.0000e+00 2.6440e+03 2.0000e+00 ... 0.0000e+00 0.0000e+00 0.0000e+00]\n",
      " [1.0000e+00 0.0000e+00 1.0000e+00 ... 0.0000e+00 0.0000e+00 0.0000e+00]\n",
      " [1.0000e+00 3.1680e+03 1.0000e+00 ... 0.0000e+00 0.0000e+00 0.0000e+00]]\n"
     ]
    }
   ],
   "source": [
    "print(X_train)"
   ]
  },
  {
   "cell_type": "code",
   "execution_count": 24,
   "metadata": {},
   "outputs": [
    {
     "data": {
      "text/html": [
       "<div>\n",
       "<style scoped>\n",
       "    .dataframe tbody tr th:only-of-type {\n",
       "        vertical-align: middle;\n",
       "    }\n",
       "\n",
       "    .dataframe tbody tr th {\n",
       "        vertical-align: top;\n",
       "    }\n",
       "\n",
       "    .dataframe thead th {\n",
       "        text-align: right;\n",
       "    }\n",
       "</style>\n",
       "<table border=\"1\" class=\"dataframe\">\n",
       "  <thead>\n",
       "    <tr style=\"text-align: right;\">\n",
       "      <th></th>\n",
       "      <th>Tag</th>\n",
       "      <th>Reputation</th>\n",
       "      <th>Answers</th>\n",
       "      <th>Username</th>\n",
       "      <th>Views</th>\n",
       "    </tr>\n",
       "  </thead>\n",
       "  <tbody>\n",
       "    <tr>\n",
       "      <th>0</th>\n",
       "      <td>a</td>\n",
       "      <td>5645.0</td>\n",
       "      <td>3.0</td>\n",
       "      <td>50652</td>\n",
       "      <td>33200.0</td>\n",
       "    </tr>\n",
       "    <tr>\n",
       "      <th>1</th>\n",
       "      <td>c</td>\n",
       "      <td>24511.0</td>\n",
       "      <td>6.0</td>\n",
       "      <td>37685</td>\n",
       "      <td>2730.0</td>\n",
       "    </tr>\n",
       "    <tr>\n",
       "      <th>2</th>\n",
       "      <td>i</td>\n",
       "      <td>927.0</td>\n",
       "      <td>1.0</td>\n",
       "      <td>135293</td>\n",
       "      <td>21167.0</td>\n",
       "    </tr>\n",
       "    <tr>\n",
       "      <th>3</th>\n",
       "      <td>i</td>\n",
       "      <td>21.0</td>\n",
       "      <td>6.0</td>\n",
       "      <td>166998</td>\n",
       "      <td>18528.0</td>\n",
       "    </tr>\n",
       "    <tr>\n",
       "      <th>4</th>\n",
       "      <td>i</td>\n",
       "      <td>4475.0</td>\n",
       "      <td>10.0</td>\n",
       "      <td>53504</td>\n",
       "      <td>57240.0</td>\n",
       "    </tr>\n",
       "  </tbody>\n",
       "</table>\n",
       "</div>"
      ],
      "text/plain": [
       "  Tag  Reputation  Answers  Username    Views\n",
       "0   a      5645.0      3.0     50652  33200.0\n",
       "1   c     24511.0      6.0     37685   2730.0\n",
       "2   i       927.0      1.0    135293  21167.0\n",
       "3   i        21.0      6.0    166998  18528.0\n",
       "4   i      4475.0     10.0     53504  57240.0"
      ]
     },
     "execution_count": 24,
     "metadata": {},
     "output_type": "execute_result"
    }
   ],
   "source": [
    "test=pd.read_csv('test.csv')\n",
    "test.head()\n",
    "\n",
    "ids_df=test.loc[:,'ID']\n",
    "ids_df=pd.DataFrame(ids_df)\n",
    "ids_df.columns=['ID']\n",
    "ids_df.head()\n",
    "\n",
    "test=test.drop('ID',axis=1)\n",
    "test.head()"
   ]
  },
  {
   "cell_type": "markdown",
   "metadata": {},
   "source": [
    "## Test with GradientBoostingRegressor"
   ]
  },
  {
   "cell_type": "code",
   "execution_count": 27,
   "metadata": {},
   "outputs": [
    {
     "name": "stdout",
     "output_type": "stream",
     "text": [
      "r2 GradientBoostingRegressor: 0.978024168960347\n"
     ]
    },
    {
     "data": {
      "text/html": [
       "<div>\n",
       "<style scoped>\n",
       "    .dataframe tbody tr th:only-of-type {\n",
       "        vertical-align: middle;\n",
       "    }\n",
       "\n",
       "    .dataframe tbody tr th {\n",
       "        vertical-align: top;\n",
       "    }\n",
       "\n",
       "    .dataframe thead th {\n",
       "        text-align: right;\n",
       "    }\n",
       "</style>\n",
       "<table border=\"1\" class=\"dataframe\">\n",
       "  <thead>\n",
       "    <tr style=\"text-align: right;\">\n",
       "      <th></th>\n",
       "      <th>0</th>\n",
       "    </tr>\n",
       "  </thead>\n",
       "  <tbody>\n",
       "    <tr>\n",
       "      <th>0</th>\n",
       "      <td>213.780881</td>\n",
       "    </tr>\n",
       "    <tr>\n",
       "      <th>1</th>\n",
       "      <td>81.330176</td>\n",
       "    </tr>\n",
       "    <tr>\n",
       "      <th>2</th>\n",
       "      <td>51.496874</td>\n",
       "    </tr>\n",
       "    <tr>\n",
       "      <th>3</th>\n",
       "      <td>33.491620</td>\n",
       "    </tr>\n",
       "    <tr>\n",
       "      <th>4</th>\n",
       "      <td>267.544347</td>\n",
       "    </tr>\n",
       "  </tbody>\n",
       "</table>\n",
       "</div>"
      ],
      "text/plain": [
       "            0\n",
       "0  213.780881\n",
       "1   81.330176\n",
       "2   51.496874\n",
       "3   33.491620\n",
       "4  267.544347"
      ]
     },
     "execution_count": 27,
     "metadata": {},
     "output_type": "execute_result"
    }
   ],
   "source": [
    "test=pd.get_dummies(test)\n",
    "poly_reg=PolynomialFeatures(degree=3)\n",
    "test=poly_reg.fit_transform(test)\n",
    "\n",
    "from sklearn.ensemble import GradientBoostingRegressor\n",
    "model= GradientBoostingRegressor(random_state=1)\n",
    "model.fit(X_train, y_train)\n",
    "score=model.score(X_train, y_train)\n",
    "print(\"r2 GradientBoostingRegressor:\",score)\n",
    "predictions_test=model.predict(test)\n",
    "predictions_test=pd.DataFrame(predictions_test)\n",
    "#predictions_train.head()\n",
    "\n",
    "predictions_test.head()"
   ]
  },
  {
   "cell_type": "code",
   "execution_count": 28,
   "metadata": {},
   "outputs": [],
   "source": [
    "predictions_test.columns=['Upvotes']\n",
    "predictions_test.head(1)\n",
    "\n",
    "result=pd.concat([ids_df,predictions_test],axis=1)\n",
    "result.head(1)\n",
    "\n",
    "result.to_csv('D:\\Result_upvotes.csv',index=False)"
   ]
  },
  {
   "cell_type": "markdown",
   "metadata": {},
   "source": [
    "## Test with RandomForestRegressor"
   ]
  },
  {
   "cell_type": "code",
   "execution_count": null,
   "metadata": {},
   "outputs": [],
   "source": [
    "test=pd.get_dummies(test)"
   ]
  },
  {
   "cell_type": "code",
   "execution_count": 29,
   "metadata": {},
   "outputs": [
    {
     "name": "stdout",
     "output_type": "stream",
     "text": [
      "r2 RandomForestRegressor:  0.9846131955240836\n"
     ]
    },
    {
     "data": {
      "text/html": [
       "<div>\n",
       "<style scoped>\n",
       "    .dataframe tbody tr th:only-of-type {\n",
       "        vertical-align: middle;\n",
       "    }\n",
       "\n",
       "    .dataframe tbody tr th {\n",
       "        vertical-align: top;\n",
       "    }\n",
       "\n",
       "    .dataframe thead th {\n",
       "        text-align: right;\n",
       "    }\n",
       "</style>\n",
       "<table border=\"1\" class=\"dataframe\">\n",
       "  <thead>\n",
       "    <tr style=\"text-align: right;\">\n",
       "      <th></th>\n",
       "      <th>0</th>\n",
       "    </tr>\n",
       "  </thead>\n",
       "  <tbody>\n",
       "    <tr>\n",
       "      <th>0</th>\n",
       "      <td>225.2</td>\n",
       "    </tr>\n",
       "    <tr>\n",
       "      <th>1</th>\n",
       "      <td>95.0</td>\n",
       "    </tr>\n",
       "    <tr>\n",
       "      <th>2</th>\n",
       "      <td>33.5</td>\n",
       "    </tr>\n",
       "    <tr>\n",
       "      <th>3</th>\n",
       "      <td>14.3</td>\n",
       "    </tr>\n",
       "    <tr>\n",
       "      <th>4</th>\n",
       "      <td>372.1</td>\n",
       "    </tr>\n",
       "  </tbody>\n",
       "</table>\n",
       "</div>"
      ],
      "text/plain": [
       "       0\n",
       "0  225.2\n",
       "1   95.0\n",
       "2   33.5\n",
       "3   14.3\n",
       "4  372.1"
      ]
     },
     "execution_count": 29,
     "metadata": {},
     "output_type": "execute_result"
    }
   ],
   "source": [
    "from sklearn.ensemble import RandomForestRegressor\n",
    "model= RandomForestRegressor(random_state=1)\n",
    "model.fit(X_train, y_train)\n",
    "score=model.score(X_train, y_train)\n",
    "print(\"r2 RandomForestRegressor: \",score)\n",
    "\n",
    "predictions_test=model.predict(test)\n",
    "predictions_test=pd.DataFrame(predictions_test)\n",
    "#predictions_train.head()\n",
    "\n",
    "predictions_test.head()"
   ]
  },
  {
   "cell_type": "code",
   "execution_count": 30,
   "metadata": {},
   "outputs": [
    {
     "name": "stdout",
     "output_type": "stream",
     "text": [
      "       ID  Upvotes\n",
      "0  366953    225.2\n"
     ]
    }
   ],
   "source": [
    "predictions_test.columns=['Upvotes']\n",
    "predictions_test.head(1)\n",
    "\n",
    "result=pd.concat([ids_df,predictions_test],axis=1)\n",
    "print(result.head(1))\n",
    "\n",
    "result.to_csv('D:\\Result_upvotes_random.csv',index=False)"
   ]
  },
  {
   "cell_type": "markdown",
   "metadata": {},
   "source": [
    "## After reducing skewness"
   ]
  },
  {
   "cell_type": "code",
   "execution_count": 31,
   "metadata": {},
   "outputs": [
    {
     "data": {
      "text/html": [
       "<div>\n",
       "<style scoped>\n",
       "    .dataframe tbody tr th:only-of-type {\n",
       "        vertical-align: middle;\n",
       "    }\n",
       "\n",
       "    .dataframe tbody tr th {\n",
       "        vertical-align: top;\n",
       "    }\n",
       "\n",
       "    .dataframe thead th {\n",
       "        text-align: right;\n",
       "    }\n",
       "</style>\n",
       "<table border=\"1\" class=\"dataframe\">\n",
       "  <thead>\n",
       "    <tr style=\"text-align: right;\">\n",
       "      <th></th>\n",
       "      <th>Tag</th>\n",
       "      <th>Reputation</th>\n",
       "      <th>Answers</th>\n",
       "      <th>Username</th>\n",
       "      <th>Views</th>\n",
       "      <th>Upvotes</th>\n",
       "    </tr>\n",
       "  </thead>\n",
       "  <tbody>\n",
       "    <tr>\n",
       "      <th>0</th>\n",
       "      <td>a</td>\n",
       "      <td>3942.0</td>\n",
       "      <td>2.0</td>\n",
       "      <td>155623</td>\n",
       "      <td>7855.0</td>\n",
       "      <td>42.0</td>\n",
       "    </tr>\n",
       "    <tr>\n",
       "      <th>1</th>\n",
       "      <td>a</td>\n",
       "      <td>26046.0</td>\n",
       "      <td>12.0</td>\n",
       "      <td>21781</td>\n",
       "      <td>55801.0</td>\n",
       "      <td>1175.0</td>\n",
       "    </tr>\n",
       "  </tbody>\n",
       "</table>\n",
       "</div>"
      ],
      "text/plain": [
       "  Tag  Reputation  Answers  Username    Views  Upvotes\n",
       "0   a      3942.0      2.0    155623   7855.0     42.0\n",
       "1   a     26046.0     12.0     21781  55801.0   1175.0"
      ]
     },
     "execution_count": 31,
     "metadata": {},
     "output_type": "execute_result"
    }
   ],
   "source": [
    "train=pd.read_csv('train.csv')\n",
    "test=pd.read_csv('test.csv')\n",
    "train=train.drop('ID',axis=1)\n",
    "train.head(2)"
   ]
  },
  {
   "cell_type": "code",
   "execution_count": 32,
   "metadata": {},
   "outputs": [
    {
     "data": {
      "text/html": [
       "<div>\n",
       "<style scoped>\n",
       "    .dataframe tbody tr th:only-of-type {\n",
       "        vertical-align: middle;\n",
       "    }\n",
       "\n",
       "    .dataframe tbody tr th {\n",
       "        vertical-align: top;\n",
       "    }\n",
       "\n",
       "    .dataframe thead th {\n",
       "        text-align: right;\n",
       "    }\n",
       "</style>\n",
       "<table border=\"1\" class=\"dataframe\">\n",
       "  <thead>\n",
       "    <tr style=\"text-align: right;\">\n",
       "      <th></th>\n",
       "      <th>Reputation</th>\n",
       "      <th>Answers</th>\n",
       "      <th>Username</th>\n",
       "      <th>Views</th>\n",
       "      <th>Upvotes</th>\n",
       "      <th>Tag_a</th>\n",
       "      <th>Tag_c</th>\n",
       "      <th>Tag_h</th>\n",
       "      <th>Tag_i</th>\n",
       "      <th>Tag_j</th>\n",
       "      <th>Tag_o</th>\n",
       "      <th>Tag_p</th>\n",
       "      <th>Tag_r</th>\n",
       "      <th>Tag_s</th>\n",
       "      <th>Tag_x</th>\n",
       "    </tr>\n",
       "  </thead>\n",
       "  <tbody>\n",
       "    <tr>\n",
       "      <th>0</th>\n",
       "      <td>3942.0</td>\n",
       "      <td>2.0</td>\n",
       "      <td>155623</td>\n",
       "      <td>7855.0</td>\n",
       "      <td>42.0</td>\n",
       "      <td>1</td>\n",
       "      <td>0</td>\n",
       "      <td>0</td>\n",
       "      <td>0</td>\n",
       "      <td>0</td>\n",
       "      <td>0</td>\n",
       "      <td>0</td>\n",
       "      <td>0</td>\n",
       "      <td>0</td>\n",
       "      <td>0</td>\n",
       "    </tr>\n",
       "  </tbody>\n",
       "</table>\n",
       "</div>"
      ],
      "text/plain": [
       "   Reputation  Answers  Username   Views  Upvotes  Tag_a  Tag_c  Tag_h  Tag_i  \\\n",
       "0      3942.0      2.0    155623  7855.0     42.0      1      0      0      0   \n",
       "\n",
       "   Tag_j  Tag_o  Tag_p  Tag_r  Tag_s  Tag_x  \n",
       "0      0      0      0      0      0      0  "
      ]
     },
     "execution_count": 32,
     "metadata": {},
     "output_type": "execute_result"
    }
   ],
   "source": [
    "train=pd.get_dummies(train)\n",
    "train.head(1)"
   ]
  },
  {
   "cell_type": "code",
   "execution_count": 33,
   "metadata": {},
   "outputs": [
    {
     "data": {
      "text/html": [
       "<div>\n",
       "<style scoped>\n",
       "    .dataframe tbody tr th:only-of-type {\n",
       "        vertical-align: middle;\n",
       "    }\n",
       "\n",
       "    .dataframe tbody tr th {\n",
       "        vertical-align: top;\n",
       "    }\n",
       "\n",
       "    .dataframe thead th {\n",
       "        text-align: right;\n",
       "    }\n",
       "</style>\n",
       "<table border=\"1\" class=\"dataframe\">\n",
       "  <thead>\n",
       "    <tr style=\"text-align: right;\">\n",
       "      <th></th>\n",
       "      <th>Reputation</th>\n",
       "      <th>Answers</th>\n",
       "      <th>Username</th>\n",
       "      <th>Views</th>\n",
       "      <th>Upvotes</th>\n",
       "      <th>Tag_a</th>\n",
       "      <th>Tag_c</th>\n",
       "      <th>Tag_h</th>\n",
       "      <th>Tag_i</th>\n",
       "      <th>Tag_j</th>\n",
       "      <th>Tag_o</th>\n",
       "      <th>Tag_p</th>\n",
       "      <th>Tag_r</th>\n",
       "      <th>Tag_s</th>\n",
       "      <th>Tag_x</th>\n",
       "    </tr>\n",
       "  </thead>\n",
       "  <tbody>\n",
       "    <tr>\n",
       "      <th>0</th>\n",
       "      <td>8.279443</td>\n",
       "      <td>0.693147</td>\n",
       "      <td>155623</td>\n",
       "      <td>8.968906</td>\n",
       "      <td>42.0</td>\n",
       "      <td>1</td>\n",
       "      <td>0</td>\n",
       "      <td>0</td>\n",
       "      <td>0</td>\n",
       "      <td>0</td>\n",
       "      <td>0.0</td>\n",
       "      <td>0</td>\n",
       "      <td>0.0</td>\n",
       "      <td>0</td>\n",
       "      <td>0.0</td>\n",
       "    </tr>\n",
       "  </tbody>\n",
       "</table>\n",
       "</div>"
      ],
      "text/plain": [
       "   Reputation   Answers  Username     Views  Upvotes  Tag_a  Tag_c  Tag_h  \\\n",
       "0    8.279443  0.693147    155623  8.968906     42.0      1      0      0   \n",
       "\n",
       "   Tag_i  Tag_j  Tag_o  Tag_p  Tag_r  Tag_s  Tag_x  \n",
       "0      0      0    0.0      0    0.0      0    0.0  "
      ]
     },
     "execution_count": 33,
     "metadata": {},
     "output_type": "execute_result"
    }
   ],
   "source": [
    "train[\"Views\"]=train[\"Views\"].apply(lambda i: np.log(i) if i > 0 else 0)\n",
    "train[\"Reputation\"]=train[\"Reputation\"].apply(lambda i: np.log(i) if i > 0 else 0)\n",
    "train[\"Tag_x\"]=train[\"Tag_x\"].apply(lambda i: np.log(i) if i > 0 else 0)\n",
    "train[\"Answers\"]=train[\"Answers\"].apply(lambda i: np.log(i) if i > 0 else 0)\n",
    "train[\"Tag_o\"]=train[\"Tag_o\"].apply(lambda i: np.log(i) if i > 0 else 0)\n",
    "train[\"Tag_r\"]=train[\"Tag_r\"].apply(lambda i: np.log(i) if i > 0 else 0)\n",
    "train.head(1)"
   ]
  },
  {
   "cell_type": "code",
   "execution_count": 34,
   "metadata": {},
   "outputs": [],
   "source": [
    "x=train\n",
    "y=target\n",
    "X_train, X_test, y_train, y_test = train_test_split(x, y, test_size = 0.2, random_state = 1)"
   ]
  },
  {
   "cell_type": "code",
   "execution_count": 35,
   "metadata": {},
   "outputs": [
    {
     "data": {
      "text/html": [
       "<div>\n",
       "<style scoped>\n",
       "    .dataframe tbody tr th:only-of-type {\n",
       "        vertical-align: middle;\n",
       "    }\n",
       "\n",
       "    .dataframe tbody tr th {\n",
       "        vertical-align: top;\n",
       "    }\n",
       "\n",
       "    .dataframe thead th {\n",
       "        text-align: right;\n",
       "    }\n",
       "</style>\n",
       "<table border=\"1\" class=\"dataframe\">\n",
       "  <thead>\n",
       "    <tr style=\"text-align: right;\">\n",
       "      <th></th>\n",
       "      <th>Tag</th>\n",
       "      <th>Reputation</th>\n",
       "      <th>Answers</th>\n",
       "      <th>Username</th>\n",
       "      <th>Views</th>\n",
       "    </tr>\n",
       "  </thead>\n",
       "  <tbody>\n",
       "    <tr>\n",
       "      <th>0</th>\n",
       "      <td>a</td>\n",
       "      <td>5645.0</td>\n",
       "      <td>3.0</td>\n",
       "      <td>50652</td>\n",
       "      <td>33200.0</td>\n",
       "    </tr>\n",
       "    <tr>\n",
       "      <th>1</th>\n",
       "      <td>c</td>\n",
       "      <td>24511.0</td>\n",
       "      <td>6.0</td>\n",
       "      <td>37685</td>\n",
       "      <td>2730.0</td>\n",
       "    </tr>\n",
       "    <tr>\n",
       "      <th>2</th>\n",
       "      <td>i</td>\n",
       "      <td>927.0</td>\n",
       "      <td>1.0</td>\n",
       "      <td>135293</td>\n",
       "      <td>21167.0</td>\n",
       "    </tr>\n",
       "    <tr>\n",
       "      <th>3</th>\n",
       "      <td>i</td>\n",
       "      <td>21.0</td>\n",
       "      <td>6.0</td>\n",
       "      <td>166998</td>\n",
       "      <td>18528.0</td>\n",
       "    </tr>\n",
       "    <tr>\n",
       "      <th>4</th>\n",
       "      <td>i</td>\n",
       "      <td>4475.0</td>\n",
       "      <td>10.0</td>\n",
       "      <td>53504</td>\n",
       "      <td>57240.0</td>\n",
       "    </tr>\n",
       "  </tbody>\n",
       "</table>\n",
       "</div>"
      ],
      "text/plain": [
       "  Tag  Reputation  Answers  Username    Views\n",
       "0   a      5645.0      3.0     50652  33200.0\n",
       "1   c     24511.0      6.0     37685   2730.0\n",
       "2   i       927.0      1.0    135293  21167.0\n",
       "3   i        21.0      6.0    166998  18528.0\n",
       "4   i      4475.0     10.0     53504  57240.0"
      ]
     },
     "execution_count": 35,
     "metadata": {},
     "output_type": "execute_result"
    }
   ],
   "source": [
    "test=pd.read_csv('test.csv')\n",
    "test.head()\n",
    "\n",
    "ids_df=test.loc[:,'ID']\n",
    "ids_df=pd.DataFrame(ids_df)\n",
    "ids_df.columns=['ID']\n",
    "ids_df.head()\n",
    "\n",
    "test=test.drop('ID',axis=1)\n",
    "test.head()"
   ]
  },
  {
   "cell_type": "code",
   "execution_count": 36,
   "metadata": {},
   "outputs": [
    {
     "data": {
      "text/html": [
       "<div>\n",
       "<style scoped>\n",
       "    .dataframe tbody tr th:only-of-type {\n",
       "        vertical-align: middle;\n",
       "    }\n",
       "\n",
       "    .dataframe tbody tr th {\n",
       "        vertical-align: top;\n",
       "    }\n",
       "\n",
       "    .dataframe thead th {\n",
       "        text-align: right;\n",
       "    }\n",
       "</style>\n",
       "<table border=\"1\" class=\"dataframe\">\n",
       "  <thead>\n",
       "    <tr style=\"text-align: right;\">\n",
       "      <th></th>\n",
       "      <th>Reputation</th>\n",
       "      <th>Answers</th>\n",
       "      <th>Username</th>\n",
       "      <th>Views</th>\n",
       "      <th>Tag_a</th>\n",
       "      <th>Tag_c</th>\n",
       "      <th>Tag_h</th>\n",
       "      <th>Tag_i</th>\n",
       "      <th>Tag_j</th>\n",
       "      <th>Tag_o</th>\n",
       "      <th>Tag_p</th>\n",
       "      <th>Tag_r</th>\n",
       "      <th>Tag_s</th>\n",
       "      <th>Tag_x</th>\n",
       "    </tr>\n",
       "  </thead>\n",
       "  <tbody>\n",
       "    <tr>\n",
       "      <th>0</th>\n",
       "      <td>8.638525</td>\n",
       "      <td>1.098612</td>\n",
       "      <td>50652</td>\n",
       "      <td>10.410305</td>\n",
       "      <td>1</td>\n",
       "      <td>0</td>\n",
       "      <td>0</td>\n",
       "      <td>0</td>\n",
       "      <td>0</td>\n",
       "      <td>0.0</td>\n",
       "      <td>0</td>\n",
       "      <td>0.0</td>\n",
       "      <td>0</td>\n",
       "      <td>0.0</td>\n",
       "    </tr>\n",
       "  </tbody>\n",
       "</table>\n",
       "</div>"
      ],
      "text/plain": [
       "   Reputation   Answers  Username      Views  Tag_a  Tag_c  Tag_h  Tag_i  \\\n",
       "0    8.638525  1.098612     50652  10.410305      1      0      0      0   \n",
       "\n",
       "   Tag_j  Tag_o  Tag_p  Tag_r  Tag_s  Tag_x  \n",
       "0      0    0.0      0    0.0      0    0.0  "
      ]
     },
     "execution_count": 36,
     "metadata": {},
     "output_type": "execute_result"
    }
   ],
   "source": [
    "test=pd.get_dummies(test)\n",
    "test[\"Views\"]=test[\"Views\"].apply(lambda i: np.log(i) if i > 0 else 0)\n",
    "test[\"Reputation\"]=test[\"Reputation\"].apply(lambda i: np.log(i) if i > 0 else 0)\n",
    "test[\"Tag_x\"]=test[\"Tag_x\"].apply(lambda i: np.log(i) if i > 0 else 0)\n",
    "test[\"Answers\"]=test[\"Answers\"].apply(lambda i: np.log(i) if i > 0 else 0)\n",
    "test[\"Tag_o\"]=test[\"Tag_o\"].apply(lambda i: np.log(i) if i > 0 else 0)\n",
    "test[\"Tag_r\"]=test[\"Tag_r\"].apply(lambda i: np.log(i) if i > 0 else 0)\n",
    "test.head(1)"
   ]
  },
  {
   "cell_type": "code",
   "execution_count": null,
   "metadata": {},
   "outputs": [],
   "source": [
    "from sklearn.ensemble import RandomForestRegressor\n",
    "model= RandomForestRegressor(random_state=1)\n",
    "model.fit(X_train, y_train)\n",
    "score=model.score(X_train, y_train)\n",
    "print(\"r2 RandomForestRegressor: \",score)\n",
    "\n",
    "predictions_test=model.predict(test)\n",
    "predictions_test=pd.DataFrame(predictions_test)\n",
    "#predictions_train.head()\n",
    "\n",
    "predictions_test.head()"
   ]
  },
  {
   "cell_type": "code",
   "execution_count": null,
   "metadata": {},
   "outputs": [],
   "source": [
    "predictions_test.columns=['Upvotes']\n",
    "predictions_test.head(1)\n",
    "\n",
    "result=pd.concat([ids_df,predictions_test],axis=1)\n",
    "print(result.head(1))\n",
    "\n",
    "result.to_csv('D:\\Result_upvotes_random_afterskew.csv',index=False)"
   ]
  },
  {
   "cell_type": "markdown",
   "metadata": {},
   "source": [
    "## Correlation between predictors and dropping them"
   ]
  },
  {
   "cell_type": "code",
   "execution_count": null,
   "metadata": {},
   "outputs": [],
   "source": [
    "corrmat = train.corr() \n",
    "plt.figure(figsize=(10,10))\n",
    "corr_graph = sns.heatmap(corrmat, cmap =\"Oranges\", linewidths = 0.2); \n",
    "#plt.setp(corr_graph.ax_heatmap.yaxis.get_majorticklabels(), rotation = 0)\n",
    "corr_graph"
   ]
  },
  {
   "cell_type": "code",
   "execution_count": null,
   "metadata": {},
   "outputs": [],
   "source": []
  },
  {
   "cell_type": "code",
   "execution_count": null,
   "metadata": {},
   "outputs": [],
   "source": []
  },
  {
   "cell_type": "code",
   "execution_count": null,
   "metadata": {},
   "outputs": [],
   "source": []
  },
  {
   "cell_type": "code",
   "execution_count": null,
   "metadata": {},
   "outputs": [],
   "source": []
  },
  {
   "cell_type": "code",
   "execution_count": null,
   "metadata": {},
   "outputs": [],
   "source": []
  },
  {
   "cell_type": "code",
   "execution_count": null,
   "metadata": {},
   "outputs": [],
   "source": []
  },
  {
   "cell_type": "code",
   "execution_count": null,
   "metadata": {},
   "outputs": [],
   "source": []
  }
 ],
 "metadata": {
  "kernelspec": {
   "display_name": "Python 3",
   "language": "python",
   "name": "python3"
  },
  "language_info": {
   "codemirror_mode": {
    "name": "ipython",
    "version": 3
   },
   "file_extension": ".py",
   "mimetype": "text/x-python",
   "name": "python",
   "nbconvert_exporter": "python",
   "pygments_lexer": "ipython3",
   "version": "3.7.1"
  }
 },
 "nbformat": 4,
 "nbformat_minor": 2
}
