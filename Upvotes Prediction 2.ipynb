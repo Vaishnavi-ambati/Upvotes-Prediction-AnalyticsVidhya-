{
 "cells": [
  {
   "cell_type": "code",
   "execution_count": 1,
   "metadata": {},
   "outputs": [],
   "source": [
    "import pandas as pd\n",
    "import numpy as np\n",
    "import seaborn as sns\n",
    "import matplotlib.pyplot as plt\n",
    "import calendar\n",
    "import datetime\n",
    "import warnings\n",
    "from scipy.stats import norm\n",
    "warnings.filterwarnings('ignore')\n",
    "\n",
    "from sklearn import model_selection\n",
    "from sklearn.metrics import accuracy_score\n",
    "from sklearn.linear_model import LogisticRegression\n",
    "from sklearn.tree import DecisionTreeClassifier\n",
    "from sklearn.neighbors import KNeighborsClassifier\n",
    "from sklearn.discriminant_analysis import LinearDiscriminantAnalysis\n",
    "from sklearn.naive_bayes import GaussianNB\n",
    "from sklearn.svm import SVC\n",
    "from sklearn.linear_model import LinearRegression\n",
    "from sklearn.ensemble import RandomForestClassifier\n",
    "from sklearn.metrics import mean_squared_error, r2_score\n",
    "from sklearn.ensemble import ExtraTreesClassifier\n",
    "from sklearn import preprocessing\n",
    "from sklearn.ensemble import AdaBoostClassifier\n",
    "from sklearn.ensemble import AdaBoostRegressor\n",
    "from sklearn.model_selection import train_test_split\n",
    "%matplotlib inline"
   ]
  },
  {
   "cell_type": "code",
   "execution_count": 2,
   "metadata": {},
   "outputs": [
    {
     "data": {
      "text/html": [
       "<div>\n",
       "<style scoped>\n",
       "    .dataframe tbody tr th:only-of-type {\n",
       "        vertical-align: middle;\n",
       "    }\n",
       "\n",
       "    .dataframe tbody tr th {\n",
       "        vertical-align: top;\n",
       "    }\n",
       "\n",
       "    .dataframe thead th {\n",
       "        text-align: right;\n",
       "    }\n",
       "</style>\n",
       "<table border=\"1\" class=\"dataframe\">\n",
       "  <thead>\n",
       "    <tr style=\"text-align: right;\">\n",
       "      <th></th>\n",
       "      <th>ID</th>\n",
       "      <th>Tag</th>\n",
       "      <th>Reputation</th>\n",
       "      <th>Answers</th>\n",
       "      <th>Username</th>\n",
       "      <th>Views</th>\n",
       "      <th>Upvotes</th>\n",
       "    </tr>\n",
       "  </thead>\n",
       "  <tbody>\n",
       "    <tr>\n",
       "      <th>0</th>\n",
       "      <td>52664</td>\n",
       "      <td>a</td>\n",
       "      <td>3942.0</td>\n",
       "      <td>2.0</td>\n",
       "      <td>155623</td>\n",
       "      <td>7855.0</td>\n",
       "      <td>42.0</td>\n",
       "    </tr>\n",
       "    <tr>\n",
       "      <th>1</th>\n",
       "      <td>327662</td>\n",
       "      <td>a</td>\n",
       "      <td>26046.0</td>\n",
       "      <td>12.0</td>\n",
       "      <td>21781</td>\n",
       "      <td>55801.0</td>\n",
       "      <td>1175.0</td>\n",
       "    </tr>\n",
       "  </tbody>\n",
       "</table>\n",
       "</div>"
      ],
      "text/plain": [
       "       ID Tag  Reputation  Answers  Username    Views  Upvotes\n",
       "0   52664   a      3942.0      2.0    155623   7855.0     42.0\n",
       "1  327662   a     26046.0     12.0     21781  55801.0   1175.0"
      ]
     },
     "execution_count": 2,
     "metadata": {},
     "output_type": "execute_result"
    }
   ],
   "source": [
    "train=pd.read_csv('train.csv')\n",
    "test=pd.read_csv('test.csv')\n",
    "train.head(2)"
   ]
  },
  {
   "cell_type": "code",
   "execution_count": 12,
   "metadata": {},
   "outputs": [
    {
     "data": {
      "text/html": [
       "<div>\n",
       "<style scoped>\n",
       "    .dataframe tbody tr th:only-of-type {\n",
       "        vertical-align: middle;\n",
       "    }\n",
       "\n",
       "    .dataframe tbody tr th {\n",
       "        vertical-align: top;\n",
       "    }\n",
       "\n",
       "    .dataframe thead th {\n",
       "        text-align: right;\n",
       "    }\n",
       "</style>\n",
       "<table border=\"1\" class=\"dataframe\">\n",
       "  <thead>\n",
       "    <tr style=\"text-align: right;\">\n",
       "      <th></th>\n",
       "      <th>Upvotes</th>\n",
       "    </tr>\n",
       "  </thead>\n",
       "  <tbody>\n",
       "    <tr>\n",
       "      <th>0</th>\n",
       "      <td>42.0</td>\n",
       "    </tr>\n",
       "    <tr>\n",
       "      <th>1</th>\n",
       "      <td>1175.0</td>\n",
       "    </tr>\n",
       "  </tbody>\n",
       "</table>\n",
       "</div>"
      ],
      "text/plain": [
       "   Upvotes\n",
       "0     42.0\n",
       "1   1175.0"
      ]
     },
     "execution_count": 12,
     "metadata": {},
     "output_type": "execute_result"
    }
   ],
   "source": [
    "target=train.loc[:,'Upvotes']\n",
    "target=pd.DataFrame(target)\n",
    "target.head(2)"
   ]
  },
  {
   "cell_type": "code",
   "execution_count": 3,
   "metadata": {},
   "outputs": [
    {
     "data": {
      "text/plain": [
       "<matplotlib.axes._subplots.AxesSubplot at 0x24250787c88>"
      ]
     },
     "execution_count": 3,
     "metadata": {},
     "output_type": "execute_result"
    },
    {
     "data": {
      "image/png": "[encoded data removed]",
      "text/plain": [
       "<Figure size 432x288 with 2 Axes>"
      ]
     },
     "metadata": {
      "needs_background": "light"
     },
     "output_type": "display_data"
    }
   ],
   "source": [
    "corr=train.corr()\n",
    "sns.heatmap(corr, \n",
    "        xticklabels=corr.columns,\n",
    "        yticklabels=corr.columns)"
   ]
  },
  {
   "cell_type": "code",
   "execution_count": 13,
   "metadata": {},
   "outputs": [],
   "source": [
    "train=train.drop(['Tag','ID','Username'],axis=1)"
   ]
  },
  {
   "cell_type": "code",
   "execution_count": 14,
   "metadata": {},
   "outputs": [
    {
     "data": {
      "text/plain": [
       "(   Reputation  Answers    Views\n",
       " 0      3942.0      2.0   7855.0\n",
       " 1     26046.0     12.0  55801.0,    Upvotes\n",
       " 0     42.0\n",
       " 1   1175.0)"
      ]
     },
     "execution_count": 14,
     "metadata": {},
     "output_type": "execute_result"
    }
   ],
   "source": [
    "x=train.drop('Upvotes',axis=1)\n",
    "y=target\n",
    "x.head(2),y.head(2)"
   ]
  },
  {
   "cell_type": "code",
   "execution_count": 15,
   "metadata": {},
   "outputs": [],
   "source": [
    "X_train, X_test, y_train, y_test = train_test_split(x, y, test_size = 0.2, random_state = 1)"
   ]
  },
  {
   "cell_type": "code",
   "execution_count": 16,
   "metadata": {},
   "outputs": [
    {
     "data": {
      "text/plain": [
       "PolynomialFeatures(degree=3, include_bias=True, interaction_only=False)"
      ]
     },
     "execution_count": 16,
     "metadata": {},
     "output_type": "execute_result"
    }
   ],
   "source": [
    "from sklearn.preprocessing import PolynomialFeatures\n",
    "poly_reg=PolynomialFeatures(degree=3)\n",
    "X_train=poly_reg.fit_transform(X_train)\n",
    "poly_reg.fit(X_train,y_train)"
   ]
  },
  {
   "cell_type": "code",
   "execution_count": 19,
   "metadata": {},
   "outputs": [],
   "source": [
    "X_test=poly_reg.fit_transform(X_test)"
   ]
  },
  {
   "cell_type": "code",
   "execution_count": 20,
   "metadata": {},
   "outputs": [
    {
     "name": "stdout",
     "output_type": "stream",
     "text": [
      "RMSE Linear: 783.83\n",
      "************************************************\n",
      "r2 GradientBoostingRegressor: 0.9762213276587652\n",
      "rmse_train GradientBoostingRegressor:  587.0082776697552\n",
      "rmse_test GradientBoostingRegressor:  1171.8975456191067\n",
      "************************************************\n",
      "[10:31:34] WARNING: C:/Jenkins/workspace/xgboost-win64_release_0.90/src/objective/regression_obj.cu:152: reg:linear is now deprecated in favor of reg:squarederror.\n",
      "r2 xgb: 0.9738918319525482\n",
      "rmse_train xgb:  615.0899397853873\n",
      "rmse_test xgb:  1187.8578767712443\n",
      "************************************************\n",
      "r2 RandomForestRegressor:  0.9841897980813177\n",
      "rmse_train RandomForestRegressor:  478.65117841169484\n",
      "rmse_test RandomForestRegressor:  1191.022998067983\n",
      "************************************************\n"
     ]
    }
   ],
   "source": [
    "linReg = LinearRegression()\n",
    "linReg.fit(X_train,y_train)\n",
    "predicted_linReg = linReg.predict(X_test)\n",
    "\n",
    "print(\"RMSE Linear: %.2f\" % np.sqrt(mean_squared_error(y_test, predicted_linReg)))\n",
    "print('************************************************')\n",
    "from sklearn.ensemble import GradientBoostingRegressor\n",
    "model= GradientBoostingRegressor(random_state=1)\n",
    "model.fit(X_train, y_train)\n",
    "score=model.score(X_train, y_train)\n",
    "print(\"r2 GradientBoostingRegressor:\",score)\n",
    "predictions_train=model.predict(X_train)\n",
    "predictions_train=pd.DataFrame(predictions_train)\n",
    "#predictions_train.head()\n",
    "\n",
    "rmse_train=np.sqrt(mean_squared_error(y_train, predictions_train))\n",
    "#print(rmse_train)\n",
    "\n",
    "predictions_test=model.predict(X_test)\n",
    "predictions_test=pd.DataFrame(predictions_test)\n",
    "#predictions_test.head()\n",
    "\n",
    "rmse_test=np.sqrt(mean_squared_error(y_test, predictions_test))\n",
    "#print(rmse_test)\n",
    "\n",
    "print('rmse_train GradientBoostingRegressor: ',rmse_train)\n",
    "print('rmse_test GradientBoostingRegressor: ',rmse_test)\n",
    "print('************************************************')\n",
    "#X_train.shape, X_test.shape, y_train.shape, y_test.shape\n",
    "\n",
    "import xgboost as xgb\n",
    "model=xgb.XGBRegressor(random_state=1)\n",
    "model.fit(X_train, y_train)\n",
    "score=model.score(X_train, y_train)\n",
    "print(\"r2 xgb:\",score)\n",
    "\n",
    "predictions_train=model.predict(X_train)\n",
    "predictions_train=pd.DataFrame(predictions_train)\n",
    "#predictions_train.head()\n",
    "\n",
    "rmse_train=np.sqrt(mean_squared_error(y_train, predictions_train))\n",
    "#print(rmse_train)\n",
    "\n",
    "predictions_test=model.predict(X_test)\n",
    "predictions_test=pd.DataFrame(predictions_test)\n",
    "#predictions_test.head()\n",
    "\n",
    "rmse_test=np.sqrt(mean_squared_error(y_test, predictions_test))\n",
    "#print(rmse_test)\n",
    "\n",
    "print('rmse_train xgb: ',rmse_train)\n",
    "print('rmse_test xgb: ',rmse_test)\n",
    "print('************************************************')\n",
    "from sklearn.ensemble import RandomForestRegressor\n",
    "model= RandomForestRegressor(random_state=1)\n",
    "model.fit(X_train, y_train)\n",
    "score=model.score(X_train, y_train)\n",
    "print(\"r2 RandomForestRegressor: \",score)\n",
    "\n",
    "predictions_train=model.predict(X_train)\n",
    "predictions_train=pd.DataFrame(predictions_train)\n",
    "#predictions_train.head()\n",
    "\n",
    "rmse_train=np.sqrt(mean_squared_error(y_train, predictions_train))\n",
    "#print(rmse_train)\n",
    "\n",
    "predictions_test=model.predict(X_test)\n",
    "predictions_test=pd.DataFrame(predictions_test)\n",
    "#predictions_test.head()\n",
    "\n",
    "rmse_test=np.sqrt(mean_squared_error(y_test, predictions_test))\n",
    "#print(rmse_test)\n",
    "\n",
    "print('rmse_train RandomForestRegressor: ',rmse_train)\n",
    "print('rmse_test RandomForestRegressor: ',rmse_test)\n",
    "print('************************************************')"
   ]
  },
  {
   "cell_type": "code",
   "execution_count": 21,
   "metadata": {},
   "outputs": [
    {
     "data": {
      "text/html": [
       "<div>\n",
       "<style scoped>\n",
       "    .dataframe tbody tr th:only-of-type {\n",
       "        vertical-align: middle;\n",
       "    }\n",
       "\n",
       "    .dataframe tbody tr th {\n",
       "        vertical-align: top;\n",
       "    }\n",
       "\n",
       "    .dataframe thead th {\n",
       "        text-align: right;\n",
       "    }\n",
       "</style>\n",
       "<table border=\"1\" class=\"dataframe\">\n",
       "  <thead>\n",
       "    <tr style=\"text-align: right;\">\n",
       "      <th></th>\n",
       "      <th>Reputation</th>\n",
       "      <th>Answers</th>\n",
       "      <th>Views</th>\n",
       "    </tr>\n",
       "  </thead>\n",
       "  <tbody>\n",
       "    <tr>\n",
       "      <th>0</th>\n",
       "      <td>5645.0</td>\n",
       "      <td>3.0</td>\n",
       "      <td>33200.0</td>\n",
       "    </tr>\n",
       "    <tr>\n",
       "      <th>1</th>\n",
       "      <td>24511.0</td>\n",
       "      <td>6.0</td>\n",
       "      <td>2730.0</td>\n",
       "    </tr>\n",
       "    <tr>\n",
       "      <th>2</th>\n",
       "      <td>927.0</td>\n",
       "      <td>1.0</td>\n",
       "      <td>21167.0</td>\n",
       "    </tr>\n",
       "    <tr>\n",
       "      <th>3</th>\n",
       "      <td>21.0</td>\n",
       "      <td>6.0</td>\n",
       "      <td>18528.0</td>\n",
       "    </tr>\n",
       "    <tr>\n",
       "      <th>4</th>\n",
       "      <td>4475.0</td>\n",
       "      <td>10.0</td>\n",
       "      <td>57240.0</td>\n",
       "    </tr>\n",
       "  </tbody>\n",
       "</table>\n",
       "</div>"
      ],
      "text/plain": [
       "   Reputation  Answers    Views\n",
       "0      5645.0      3.0  33200.0\n",
       "1     24511.0      6.0   2730.0\n",
       "2       927.0      1.0  21167.0\n",
       "3        21.0      6.0  18528.0\n",
       "4      4475.0     10.0  57240.0"
      ]
     },
     "execution_count": 21,
     "metadata": {},
     "output_type": "execute_result"
    }
   ],
   "source": [
    "test=pd.read_csv('test.csv')\n",
    "test.head()\n",
    "\n",
    "ids_df=test.loc[:,'ID']\n",
    "ids_df=pd.DataFrame(ids_df)\n",
    "ids_df.columns=['ID']\n",
    "ids_df.head()\n",
    "\n",
    "test=test.drop(['Tag','ID','Username'],axis=1)\n",
    "test.head()"
   ]
  },
  {
   "cell_type": "code",
   "execution_count": 24,
   "metadata": {},
   "outputs": [],
   "source": [
    "test=poly_reg.fit_transform(test)"
   ]
  },
  {
   "cell_type": "markdown",
   "metadata": {},
   "source": [
    "### Prediction with xgb"
   ]
  },
  {
   "cell_type": "code",
   "execution_count": 25,
   "metadata": {},
   "outputs": [
    {
     "name": "stdout",
     "output_type": "stream",
     "text": [
      "[11:02:27] WARNING: C:/Jenkins/workspace/xgboost-win64_release_0.90/src/objective/regression_obj.cu:152: reg:linear is now deprecated in favor of reg:squarederror.\n",
      "r2 xgb: 0.9738918319525482\n"
     ]
    },
    {
     "data": {
      "text/html": [
       "<div>\n",
       "<style scoped>\n",
       "    .dataframe tbody tr th:only-of-type {\n",
       "        vertical-align: middle;\n",
       "    }\n",
       "\n",
       "    .dataframe tbody tr th {\n",
       "        vertical-align: top;\n",
       "    }\n",
       "\n",
       "    .dataframe thead th {\n",
       "        text-align: right;\n",
       "    }\n",
       "</style>\n",
       "<table border=\"1\" class=\"dataframe\">\n",
       "  <thead>\n",
       "    <tr style=\"text-align: right;\">\n",
       "      <th></th>\n",
       "      <th>0</th>\n",
       "    </tr>\n",
       "  </thead>\n",
       "  <tbody>\n",
       "    <tr>\n",
       "      <th>0</th>\n",
       "      <td>4.95</td>\n",
       "    </tr>\n",
       "    <tr>\n",
       "      <th>1</th>\n",
       "      <td>9.00</td>\n",
       "    </tr>\n",
       "    <tr>\n",
       "      <th>2</th>\n",
       "      <td>1.90</td>\n",
       "    </tr>\n",
       "    <tr>\n",
       "      <th>3</th>\n",
       "      <td>18.50</td>\n",
       "    </tr>\n",
       "    <tr>\n",
       "      <th>4</th>\n",
       "      <td>122.20</td>\n",
       "    </tr>\n",
       "  </tbody>\n",
       "</table>\n",
       "</div>"
      ],
      "text/plain": [
       "        0\n",
       "0    4.95\n",
       "1    9.00\n",
       "2    1.90\n",
       "3   18.50\n",
       "4  122.20"
      ]
     },
     "execution_count": 25,
     "metadata": {},
     "output_type": "execute_result"
    }
   ],
   "source": [
    "import xgboost as xgb\n",
    "model=xgb.XGBRegressor(random_state=1)\n",
    "model.fit(X_train, y_train)\n",
    "score=model.score(X_train, y_train)\n",
    "print(\"r2 xgb:\",score)\n",
    "\n",
    "predictions_train=model.predict(test)\n",
    "predictions_test=pd.DataFrame(predictions_test)\n",
    "\n",
    "predictions_test.head()"
   ]
  },
  {
   "cell_type": "code",
   "execution_count": 26,
   "metadata": {},
   "outputs": [],
   "source": [
    "predictions_test.columns=['Upvotes']\n",
    "predictions_test.head(1)\n",
    "\n",
    "result=pd.concat([ids_df,predictions_test],axis=1)\n",
    "result.head(1)\n",
    "\n",
    "result.to_csv('D:\\Result2_XGB.csv',index=False)"
   ]
  },
  {
   "cell_type": "markdown",
   "metadata": {},
   "source": [
    "## Prediction with Linear"
   ]
  },
  {
   "cell_type": "code",
   "execution_count": null,
   "metadata": {},
   "outputs": [],
   "source": [
    "linReg = LinearRegression()\n",
    "linReg.fit(X_train,y_train)\n",
    "predicted_linReg = linReg.predict(test)\n",
    "predicted_linReg=pd.DataFrame(predicted_linReg)\n",
    "\n",
    "predicted_linReg.columns=['Upvotes']\n",
    "predicted_linReg.head(1)\n",
    "\n",
    "result=pd.concat([ids_df,predicted_linReg],axis=1)\n",
    "result.head(1)\n",
    "\n",
    "result.to_csv('D:\\Result2_Linear.csv',index=False)"
   ]
  },
  {
   "cell_type": "markdown",
   "metadata": {},
   "source": [
    "## Prediction with GradientBoostingRegressor"
   ]
  },
  {
   "cell_type": "code",
   "execution_count": 28,
   "metadata": {},
   "outputs": [
    {
     "name": "stdout",
     "output_type": "stream",
     "text": [
      "r2 GradientBoostingRegressor: 0.9762213276587652\n"
     ]
    }
   ],
   "source": [
    "from sklearn.ensemble import GradientBoostingRegressor\n",
    "model= GradientBoostingRegressor(random_state=1)\n",
    "model.fit(X_train, y_train)\n",
    "score=model.score(X_train, y_train)\n",
    "print(\"r2 GradientBoostingRegressor:\",score)\n",
    "predictions_test=model.predict(test)\n",
    "predictions_test=pd.DataFrame(predictions_test)\n",
    "#predictions_train.head()\n",
    "\n",
    "predictions_test.columns=['Upvotes']\n",
    "predictions_test.head(1)\n",
    "\n",
    "result=pd.concat([ids_df,predictions_test],axis=1)\n",
    "result.head(1)\n",
    "\n",
    "result.to_csv('D:\\Result2_GBR.csv',index=False)"
   ]
  },
  {
   "cell_type": "markdown",
   "metadata": {},
   "source": [
    "## Prediction with RandomForestRegressor"
   ]
  },
  {
   "cell_type": "code",
   "execution_count": 29,
   "metadata": {},
   "outputs": [
    {
     "name": "stdout",
     "output_type": "stream",
     "text": [
      "r2 RandomForestRegressor:  0.9841897980813177\n",
      "       ID  Upvotes\n",
      "0  366953    189.2\n"
     ]
    }
   ],
   "source": [
    "from sklearn.ensemble import RandomForestRegressor\n",
    "model= RandomForestRegressor(random_state=1)\n",
    "model.fit(X_train, y_train)\n",
    "score=model.score(X_train, y_train)\n",
    "print(\"r2 RandomForestRegressor: \",score)\n",
    "\n",
    "predictions_test=model.predict(test)\n",
    "predictions_test=pd.DataFrame(predictions_test)\n",
    "#predictions_train.head()\n",
    "\n",
    "predictions_test.columns=['Upvotes']\n",
    "predictions_test.head(1)\n",
    "\n",
    "result=pd.concat([ids_df,predictions_test],axis=1)\n",
    "print(result.head(1))\n",
    "\n",
    "result.to_csv('D:\\Result2_Random.csv',index=False)"
   ]
  },
  {
   "cell_type": "markdown",
   "metadata": {},
   "source": [
    "## With standard Scalar and PolynomialFeatures "
   ]
  },
  {
   "cell_type": "code",
   "execution_count": null,
   "metadata": {},
   "outputs": [],
   "source": [
    "pd.read_csv('test.csv')"
   ]
  },
  {
   "cell_type": "code",
   "execution_count": 34,
   "metadata": {},
   "outputs": [],
   "source": [
    "train1=pd.read_csv('train.csv')\n",
    "target1=target.copy()"
   ]
  },
  {
   "cell_type": "code",
   "execution_count": 37,
   "metadata": {},
   "outputs": [
    {
     "data": {
      "text/html": [
       "<div>\n",
       "<style scoped>\n",
       "    .dataframe tbody tr th:only-of-type {\n",
       "        vertical-align: middle;\n",
       "    }\n",
       "\n",
       "    .dataframe tbody tr th {\n",
       "        vertical-align: top;\n",
       "    }\n",
       "\n",
       "    .dataframe thead th {\n",
       "        text-align: right;\n",
       "    }\n",
       "</style>\n",
       "<table border=\"1\" class=\"dataframe\">\n",
       "  <thead>\n",
       "    <tr style=\"text-align: right;\">\n",
       "      <th></th>\n",
       "      <th>ID</th>\n",
       "      <th>Tag</th>\n",
       "      <th>Reputation</th>\n",
       "      <th>Answers</th>\n",
       "      <th>Username</th>\n",
       "      <th>Views</th>\n",
       "      <th>Upvotes</th>\n",
       "    </tr>\n",
       "  </thead>\n",
       "  <tbody>\n",
       "    <tr>\n",
       "      <th>0</th>\n",
       "      <td>52664</td>\n",
       "      <td>a</td>\n",
       "      <td>3942.0</td>\n",
       "      <td>2.0</td>\n",
       "      <td>155623</td>\n",
       "      <td>7855.0</td>\n",
       "      <td>42.0</td>\n",
       "    </tr>\n",
       "  </tbody>\n",
       "</table>\n",
       "</div>"
      ],
      "text/plain": [
       "      ID Tag  Reputation  Answers  Username   Views  Upvotes\n",
       "0  52664   a      3942.0      2.0    155623  7855.0     42.0"
      ]
     },
     "execution_count": 37,
     "metadata": {},
     "output_type": "execute_result"
    }
   ],
   "source": [
    "train1.head(1)"
   ]
  },
  {
   "cell_type": "code",
   "execution_count": 38,
   "metadata": {},
   "outputs": [],
   "source": [
    "X = train1.drop(['Tag','ID','Username'], axis=1)\n",
    "y = target1             \n",
    "X=X.drop(['Upvotes'], axis=1)      \n",
    "\n",
    "\n",
    "from sklearn.model_selection import train_test_split\n",
    "X, x_test, y, y_test = train_test_split(X,y,test_size=.2, random_state=1)\n",
    "\n",
    "from sklearn.preprocessing import StandardScaler\n",
    "scalar=StandardScaler()\n",
    "X=scalar.fit_transform(X)\n",
    "x_test=scalar.fit_transform(x_test)\n",
    "\n",
    "from sklearn.preprocessing import PolynomialFeatures\n",
    "poly_reg=PolynomialFeatures(degree=3)\n",
    "X=poly_reg.fit_transform(X)\n",
    "\n",
    "poly_reg.fit(X,y)\n",
    "\n",
    "x_test=poly_reg.fit_transform(x_test)"
   ]
  },
  {
   "cell_type": "code",
   "execution_count": 39,
   "metadata": {},
   "outputs": [],
   "source": [
    "test=pd.read_csv('test.csv')\n",
    "X_test= test.drop(['Tag','ID','Username'], axis=1)\n",
    "\n",
    "X_test=scalar.fit_transform(X_test)\n",
    "    \n",
    "X_testing= poly_reg.fit_transform(X_test)"
   ]
  },
  {
   "cell_type": "code",
   "execution_count": 42,
   "metadata": {},
   "outputs": [
    {
     "name": "stdout",
     "output_type": "stream",
     "text": [
      "[11:22:21] WARNING: C:/Jenkins/workspace/xgboost-win64_release_0.90/src/objective/regression_obj.cu:152: reg:linear is now deprecated in favor of reg:squarederror.\n",
      "r2 xgb: 0.9713609841122756\n"
     ]
    }
   ],
   "source": [
    "import xgboost as xgb\n",
    "model=xgb.XGBRegressor(random_state=1)\n",
    "model.fit(X,y)\n",
    "score=model.score(X, y)\n",
    "print(\"r2 xgb:\",score)\n",
    "\n",
    "predictions_train=model.predict(X_testing)\n",
    "predictions_test=pd.DataFrame(predictions_test)\n",
    "predictions_test.columns=['Upvotes']\n",
    "predictions_test.head(1)\n",
    "\n",
    "result=pd.concat([ids_df,predictions_test],axis=1)\n",
    "result.head(1)\n",
    "\n",
    "result.to_csv('D:\\Result3_XGB.csv',index=False)"
   ]
  },
  {
   "cell_type": "code",
   "execution_count": 43,
   "metadata": {},
   "outputs": [],
   "source": [
    "linReg = LinearRegression()\n",
    "linReg.fit(X,y)\n",
    "predicted_linReg = linReg.predict(X_testing)\n",
    "predicted_linReg=pd.DataFrame(predicted_linReg)\n",
    "\n",
    "predicted_linReg.columns=['Upvotes']\n",
    "predicted_linReg.head(1)\n",
    "\n",
    "result=pd.concat([ids_df,predicted_linReg],axis=1)\n",
    "result.head(1)\n",
    "\n",
    "result.to_csv('D:\\Result3_Linear.csv',index=False)"
   ]
  },
  {
   "cell_type": "code",
   "execution_count": 44,
   "metadata": {},
   "outputs": [
    {
     "name": "stdout",
     "output_type": "stream",
     "text": [
      "r2 GradientBoostingRegressor: 0.9745082116640053\n"
     ]
    }
   ],
   "source": [
    "from sklearn.ensemble import GradientBoostingRegressor\n",
    "model= GradientBoostingRegressor(random_state=1)\n",
    "model.fit(X,y)\n",
    "score=model.score(X,y)\n",
    "print(\"r2 GradientBoostingRegressor:\",score)\n",
    "predictions_test=model.predict(X_testing)\n",
    "predictions_test=pd.DataFrame(predictions_test)\n",
    "#predictions_train.head()\n",
    "\n",
    "predictions_test.columns=['Upvotes']\n",
    "predictions_test.head(1)\n",
    "\n",
    "result=pd.concat([ids_df,predictions_test],axis=1)\n",
    "result.head(1)\n",
    "\n",
    "result.to_csv('D:\\Result3_GBR.csv',index=False)"
   ]
  },
  {
   "cell_type": "code",
   "execution_count": 45,
   "metadata": {},
   "outputs": [
    {
     "name": "stdout",
     "output_type": "stream",
     "text": [
      "r2 RandomForestRegressor:  0.9808054950757902\n",
      "       ID  Upvotes\n",
      "0  366953    198.6\n"
     ]
    }
   ],
   "source": [
    "from sklearn.ensemble import RandomForestRegressor\n",
    "model= RandomForestRegressor(random_state=1)\n",
    "model.fit(X,y)\n",
    "score=model.score(X,y)\n",
    "print(\"r2 RandomForestRegressor: \",score)\n",
    "\n",
    "predictions_test=model.predict(X_testing)\n",
    "predictions_test=pd.DataFrame(predictions_test)\n",
    "#predictions_train.head()\n",
    "\n",
    "predictions_test.columns=['Upvotes']\n",
    "predictions_test.head(1)\n",
    "\n",
    "result=pd.concat([ids_df,predictions_test],axis=1)\n",
    "print(result.head(1))\n",
    "\n",
    "result.to_csv('D:\\Result3_Random.csv',index=False)"
   ]
  },
  {
   "cell_type": "code",
   "execution_count": null,
   "metadata": {},
   "outputs": [],
   "source": []
  },
  {
   "cell_type": "code",
   "execution_count": null,
   "metadata": {},
   "outputs": [],
   "source": []
  }
 ],
 "metadata": {
  "kernelspec": {
   "display_name": "Python 3",
   "language": "python",
   "name": "python3"
  },
  "language_info": {
   "codemirror_mode": {
    "name": "ipython",
    "version": 3
   },
   "file_extension": ".py",
   "mimetype": "text/x-python",
   "name": "python",
   "nbconvert_exporter": "python",
   "pygments_lexer": "ipython3",
   "version": "3.7.1"
  }
 },
 "nbformat": 4,
 "nbformat_minor": 2
}
